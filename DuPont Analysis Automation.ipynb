{
 "cells": [
  {
   "cell_type": "code",
   "execution_count": 1,
   "id": "af4fac703e7048e9",
   "metadata": {
    "ExecuteTime": {
     "end_time": "2024-10-30T20:22:51.002939Z",
     "start_time": "2024-10-30T20:22:50.514061Z"
    }
   },
   "outputs": [],
   "source": [
    "import requests\n",
    "import csv\n",
    "import matplotlib.pyplot as plt\n",
    "from decimal import Decimal, InvalidOperation  \n",
    "from bs4 import BeautifulSoup"
   ]
  },
  {
   "cell_type": "code",
   "execution_count": 2,
   "id": "9a213d347f5d9b55",
   "metadata": {
    "ExecuteTime": {
     "end_time": "2024-10-30T20:22:51.729737Z",
     "start_time": "2024-10-30T20:22:51.724305Z"
    }
   },
   "outputs": [],
   "source": [
    "# Function to scrape table from a given URL and save it as a CSV file\n",
    "def scrape_to_csv(url, output_filename):\n",
    "    response = requests.get(url)\n",
    "    soup = BeautifulSoup(response.text, 'html.parser')\n",
    "\n",
    "    # Find the financial table(s)\n",
    "    table = soup.find('table')\n",
    "    rows = table.find_all('tr')\n",
    "\n",
    "    # Extract header\n",
    "    header = [th.get_text(strip=True) for th in rows[0].find_all('th')]\n",
    "\n",
    "    # Extract data rows\n",
    "    data = []\n",
    "    for row in rows[1:]:\n",
    "        row_data = [td.get_text(strip=True) for td in row.find_all('td')]\n",
    "        # Skip empty rows\n",
    "        if row_data and any(row_data):  # This checks if the row has any non-empty data\n",
    "            data.append(row_data)\n",
    "\n",
    "    # Write data to CSV file (using newline='' to avoid extra blank lines)\n",
    "    with open(output_filename, 'w', newline='', encoding='utf-8') as f:\n",
    "        writer = csv.writer(f)\n",
    "        writer.writerow(header)  # Writing header\n",
    "        writer.writerows(data)  # Writing data rows\n",
    "\n",
    "    print(f\"Data from {url} saved to {output_filename}\")"
   ]
  },
  {
   "cell_type": "code",
   "execution_count": 3,
   "id": "11368a9ff4708f57",
   "metadata": {
    "ExecuteTime": {
     "end_time": "2024-10-31T01:40:23.099647Z",
     "start_time": "2024-10-31T01:40:17.549525Z"
    }
   },
   "outputs": [
    {
     "name": "stdin",
     "output_type": "stream",
     "text": [
      "What is the company's ticker:  NFLX\n"
     ]
    },
    {
     "name": "stdout",
     "output_type": "stream",
     "text": [
      "Data from https://stockanalysis.com/stocks/nflx/financials/ saved to NFLX_is_annual.csv\n",
      "Data from https://stockanalysis.com/stocks/nflx/financials/balance-sheet/ saved to NFLX_asset_annual.csv\n"
     ]
    }
   ],
   "source": [
    "# URLs to scrape financial data\n",
    "title = input(\"What is the company's ticker: \")\n",
    "income_statement_url = f'https://stockanalysis.com/stocks/{title.lower()}/financials/'\n",
    "balance_sheet_url = f'https://stockanalysis.com/stocks/{title.lower()}/financials/balance-sheet/'\n",
    "\n",
    "# File names for storing scraped data\n",
    "income_statement_csv = f'{title}_is_annual.csv'\n",
    "balance_sheet_csv = f'{title}_asset_annual.csv'\n",
    "\n",
    "# Scrape both URLs and save to CSV\n",
    "scrape_to_csv(income_statement_url, income_statement_csv)\n",
    "scrape_to_csv(balance_sheet_url, balance_sheet_csv)"
   ]
  },
  {
   "cell_type": "code",
   "execution_count": 4,
   "id": "af7d2ea0e16ba6a1",
   "metadata": {
    "ExecuteTime": {
     "end_time": "2024-10-31T01:40:26.613534Z",
     "start_time": "2024-10-31T01:40:26.608198Z"
    }
   },
   "outputs": [
    {
     "name": "stdout",
     "output_type": "stream",
     "text": [
      "Header (Years): ['2018 - 2014', 'FY 2019', 'FY 2020', 'FY 2021', 'FY 2022', 'FY 2023']\n",
      "Net Income: ['Upgrade', '1,867', '2,761', '5,116', '4,492', '5,408']\n",
      "Stockholders' Equity: ['Upgrade', '7,582', '11,065', '15,849', '20,777', '20,588']\n",
      "Length of Net Income: 6\n",
      "Length of Stockholders' Equity: 6\n"
     ]
    }
   ],
   "source": [
    "# Reading net income from 'AAPL_is_annual.csv'\n",
    "with open(income_statement_csv, mode='r') as file:\n",
    "    csvFile = csv.reader(file)\n",
    "    header = next(csvFile)\n",
    "    net_income = None\n",
    "    for lines in csvFile:\n",
    "        if lines[0].strip() == \"Net Income\":\n",
    "            net_income = lines[:1:-1]  # Extract Net Income values\n",
    "    if net_income is None:\n",
    "        raise ValueError(\"Net Income data not found in the file.\")\n",
    "    header_title = header[:1:-1]  # Extract years/titles\n",
    "    print(\"Header (Years):\", header_title)\n",
    "    print(\"Net Income:\", net_income)\n",
    "\n",
    "# Reading stockholders' equity from 'AAPL_asset_annual.csv'\n",
    "with open(balance_sheet_csv, mode='r') as file:\n",
    "    csvFile = csv.reader(file)\n",
    "    stockholders_equity = None\n",
    "    for lines in csvFile:\n",
    "        if lines[0].strip() == \"Shareholders' Equity\":\n",
    "            stockholders_equity = lines[:1:-1]  # Extract Stockholders' Equity values\n",
    "    if stockholders_equity is None:\n",
    "        raise ValueError(\"Stockholders' Equity data not found in the file.\")\n",
    "    print(\"Stockholders' Equity:\", stockholders_equity)\n",
    "\n",
    "# Check the lengths of both lists\n",
    "print(\"Length of Net Income:\", len(net_income))\n",
    "print(\"Length of Stockholders' Equity:\", len(stockholders_equity))"
   ]
  },
  {
   "cell_type": "code",
   "execution_count": 5,
   "id": "28c633ca2039089e",
   "metadata": {
    "ExecuteTime": {
     "end_time": "2024-10-31T01:40:29.668142Z",
     "start_time": "2024-10-31T01:40:29.665268Z"
    }
   },
   "outputs": [],
   "source": [
    "# Ensure that the data for net_income and stockholders_equity have the same length\n",
    "min_length = min(len(net_income), len(stockholders_equity))\n",
    "if len(net_income) != len(stockholders_equity):\n",
    "    print(\n",
    "        f\"Warning: Net Income and Stockholders' Equity data have different lengths. Using the first {min_length} elements for both.\")"
   ]
  },
  {
   "cell_type": "code",
   "execution_count": 6,
   "id": "120de4057e4f94c7",
   "metadata": {
    "ExecuteTime": {
     "end_time": "2024-10-31T01:40:32.199290Z",
     "start_time": "2024-10-31T01:40:32.195863Z"
    }
   },
   "outputs": [
    {
     "name": "stdout",
     "output_type": "stream",
     "text": [
      "Invalid data at index 0: Net Income = Upgrade, Stockholders' Equity = Upgrade\n"
     ]
    }
   ],
   "source": [
    "# Perform DuPont analysis\n",
    "dupont_analysis = []\n",
    "for x in range(min_length):\n",
    "    try:\n",
    "        # Clean and convert strings to Decimal for calculation\n",
    "        ni = net_income[x].replace(',', '').replace('(', '-').replace(')', '')  # Handle commas and negative numbers\n",
    "        se = stockholders_equity[x].replace(',', '').replace('(', '-').replace(')', '')\n",
    "        \n",
    "        # Convert to Decimal and calculate DuPont ratio\n",
    "        result = Decimal(ni) / Decimal(se)\n",
    "        dupont_analysis.append(result)\n",
    "    except InvalidOperation as e:\n",
    "        print(f\"Invalid data at index {x}: Net Income = {net_income[x]}, Stockholders' Equity = {stockholders_equity[x]}\")\n",
    "        dupont_analysis.append(None)  # Append None if conversion fails"
   ]
  },
  {
   "cell_type": "code",
   "execution_count": 7,
   "id": "7a33e8885350ce3d",
   "metadata": {
    "ExecuteTime": {
     "end_time": "2024-10-31T01:40:33.949388Z",
     "start_time": "2024-10-31T01:40:33.897096Z"
    }
   },
   "outputs": [
    {
     "data": {
      "image/png": "[encoded data removed]",
      "text/plain": [
       "<Figure size 640x480 with 1 Axes>"
      ]
     },
     "metadata": {},
     "output_type": "display_data"
    }
   ],
   "source": [
    "# Plot the DuPont analysis over the fiscal years (trim header_title to match min_length)\n",
    "plt.plot(header_title[:min_length], dupont_analysis)\n",
    "plt.xlabel('Fiscal Year')\n",
    "plt.ylabel('DuPont Analysis (Net Income / Stockholders Equity)')\n",
    "plt.title(f'DuPont Analysis for {title} Over Time')\n",
    "plt.show()"
   ]
  },
  {
   "cell_type": "code",
   "execution_count": null,
   "id": "396d37af-e019-470b-b664-bb51a0b19ba1",
   "metadata": {},
   "outputs": [],
   "source": []
  }
 ],
 "metadata": {
  "kernelspec": {
   "display_name": "Python 3 (ipykernel)",
   "language": "python",
   "name": "python3"
  },
  "language_info": {
   "codemirror_mode": {
    "name": "ipython",
    "version": 3
   },
   "file_extension": ".py",
   "mimetype": "text/x-python",
   "name": "python",
   "nbconvert_exporter": "python",
   "pygments_lexer": "ipython3",
   "version": "3.12.3"
  }
 },
 "nbformat": 4,
 "nbformat_minor": 5
}
